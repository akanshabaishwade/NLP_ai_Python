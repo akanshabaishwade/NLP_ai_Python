{
 "cells": [
  {
   "cell_type": "code",
   "execution_count": 6,
   "metadata": {},
   "outputs": [
    {
     "name": "stdout",
     "output_type": "stream",
     "text": [
      "Autocomplete suggestion: my\n"
     ]
    }
   ],
   "source": [
    "from collections import defaultdict\n",
    "import random\n",
    "\n",
    "class NGramLanguageModel:\n",
    "    def __init__(self, n):\n",
    "        self.n = n\n",
    "        self.ngrams = defaultdict(list)\n",
    "\n",
    "    def train(self, sentences):\n",
    "        for sentence in sentences:\n",
    "            tokens = sentence.split()\n",
    "            for i in range(len(tokens) - self.n):\n",
    "                ngram = tuple(tokens[i:i+self.n])\n",
    "                next_word = tokens[i+self.n]\n",
    "                self.ngrams[ngram].append(next_word)\n",
    "\n",
    "    def predict_next_word(self, partial_sentence):\n",
    "        tokens = partial_sentence.split()\n",
    "        ngram = tuple(tokens[-self.n:])\n",
    "        next_word_options = self.ngrams[ngram]\n",
    "        if not next_word_options:\n",
    "            return None\n",
    "        return random.choice(next_word_options)\n",
    "\n",
    "# Example usage\n",
    "sentences = [\n",
    "    \"I love to code\",\n",
    "    \"Code is my passion\",\n",
    "    \"Coding makes me happy\",\n",
    "    \"Happy coding!\"\n",
    "]\n",
    "\n",
    "n = 2\n",
    "model = NGramLanguageModel(n)\n",
    "model.train(sentences)\n",
    "\n",
    "partial_sentence = \"Code is \"\n",
    "next_word = model.predict_next_word(partial_sentence)\n",
    "print(\"Autocomplete suggestion:\", next_word)\n"
   ]
  },
  {
   "cell_type": "code",
   "execution_count": 1,
   "metadata": {},
   "outputs": [
    {
     "data": {
      "text/plain": [
       "'!\"#$%&\\'()*+,-./:;<=>?@[\\\\]^_`{|}~'"
      ]
     },
     "execution_count": 1,
     "metadata": {},
     "output_type": "execute_result"
    }
   ],
   "source": [
    "import string \n",
    "string.punctuation"
   ]
  },
  {
   "cell_type": "code",
   "execution_count": null,
   "metadata": {},
   "outputs": [],
   "source": []
  },
  {
   "cell_type": "code",
   "execution_count": null,
   "metadata": {},
   "outputs": [],
   "source": []
  },
  {
   "cell_type": "markdown",
   "metadata": {},
   "source": []
  },
  {
   "cell_type": "code",
   "execution_count": null,
   "metadata": {},
   "outputs": [],
   "source": []
  },
  {
   "cell_type": "code",
   "execution_count": null,
   "metadata": {},
   "outputs": [],
   "source": []
  }
 ],
 "metadata": {
  "kernelspec": {
   "display_name": "env",
   "language": "python",
   "name": "python3"
  },
  "language_info": {
   "codemirror_mode": {
    "name": "ipython",
    "version": 3
   },
   "file_extension": ".py",
   "mimetype": "text/x-python",
   "name": "python",
   "nbconvert_exporter": "python",
   "pygments_lexer": "ipython3",
   "version": "3.8.10"
  },
  "orig_nbformat": 4
 },
 "nbformat": 4,
 "nbformat_minor": 2
}
